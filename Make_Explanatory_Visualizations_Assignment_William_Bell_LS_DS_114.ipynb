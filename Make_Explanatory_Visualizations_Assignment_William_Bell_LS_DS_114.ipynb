{
  "nbformat": 4,
  "nbformat_minor": 0,
  "metadata": {
    "colab": {
      "name": "Make_Explanatory_Visualizations_Assignment_William_Bell_LS_DS_114.ipynb",
      "provenance": [],
      "collapsed_sections": [],
      "include_colab_link": true
    },
    "language_info": {
      "codemirror_mode": {
        "name": "ipython",
        "version": 3
      },
      "file_extension": ".py",
      "mimetype": "text/x-python",
      "name": "python",
      "nbconvert_exporter": "python",
      "pygments_lexer": "ipython3",
      "version": "3.7.1"
    },
    "kernelspec": {
      "display_name": "Python 3",
      "language": "python",
      "name": "python3"
    }
  },
  "cells": [
    {
      "cell_type": "markdown",
      "metadata": {
        "id": "view-in-github",
        "colab_type": "text"
      },
      "source": [
        "<a href=\"https://colab.research.google.com/github/W-B28/DS-Unit-1-Sprint-1-Data-Wrangling-and-Storytelling/blob/master/Make_Explanatory_Visualizations_Assignment_William_Bell_LS_DS_114.ipynb\" target=\"_parent\"><img src=\"https://colab.research.google.com/assets/colab-badge.svg\" alt=\"Open In Colab\"/></a>"
      ]
    },
    {
      "cell_type": "markdown",
      "metadata": {
        "colab_type": "text",
        "id": "NMEswXWh9mqw"
      },
      "source": [
        "Lambda School Data Science\n",
        "\n",
        "*Unit 1, Sprint 1, Module 4*\n",
        "\n",
        "---\n",
        "\n",
        "# ASSIGNMENT\n",
        "\n",
        "### 1) Replicate the lesson code. I recommend that you [do not copy-paste](https://docs.google.com/document/d/1ubOw9B3Hfip27hF2ZFnW3a3z9xAgrUDRReOEo-FHCVs/edit).\n",
        "\n",
        "Get caught up to where we got our example in class and then try and take things further. How close to \"pixel perfect\" can you make the lecture graph?\n",
        "\n",
        "Once you have something that you're proud of, share your graph in the cohort channel and move on to the second exercise.\n",
        "\n",
        "### 2) Reproduce another example from [FiveThityEight's shared data repository](https://data.fivethirtyeight.com/).\n",
        "\n",
        "**WARNING**: There are a lot of very custom graphs and tables at the above link. I **highly** recommend not trying to reproduce any that look like a table of values or something really different from the graph types that we are already familiar with. Search through the posts until you find a graph type that you are more or less familiar with: histogram, bar chart, stacked bar chart, line chart, [seaborn relplot](https://seaborn.pydata.org/generated/seaborn.relplot.html), etc. Recreating some of the graphics that 538 uses would be a lot easier in Adobe photoshop/illustrator than with matplotlib. \n",
        "\n",
        "- If you put in some time to find a graph that looks \"easy\" to replicate you'll probably find that it's not as easy as you thought. \n",
        "\n",
        "- If you start with a graph that looks hard to replicate you'll probably run up against a brick wall and be disappointed with your afternoon.\n",
        "\n",
        "\n",
        "\n",
        "\n",
        "\n",
        "\n",
        "\n",
        "\n",
        "\n",
        "\n"
      ]
    },
    {
      "cell_type": "code",
      "metadata": {
        "id": "7SY1ZHawyZvz",
        "colab_type": "code",
        "outputId": "1b0c1a9a-3cc8-4e57-9418-96ac2cb83a6c",
        "colab": {
          "base_uri": "https://localhost:8080/",
          "height": 355
        }
      },
      "source": [
        "# Replicate the lesson code\n",
        "\n",
        "from IPython.display import display, Image\n",
        "\n",
        "url = 'https://fivethirtyeight.com/wp-content/uploads/2017/09/mehtahickey-inconvenient-0830-1.png'\n",
        "example = Image(url=url, width=400)\n",
        "\n",
        "display(example)\n"
      ],
      "execution_count": 0,
      "outputs": [
        {
          "output_type": "display_data",
          "data": {
            "text/html": [
              "<img src=\"https://fivethirtyeight.com/wp-content/uploads/2017/09/mehtahickey-inconvenient-0830-1.png\" width=\"400\"/>"
            ],
            "text/plain": [
              "<IPython.core.display.Image object>"
            ]
          },
          "metadata": {
            "tags": []
          }
        }
      ]
    },
    {
      "cell_type": "code",
      "metadata": {
        "id": "wuA2jnmlASLa",
        "colab_type": "code",
        "outputId": "11d91817-7314-448f-b290-0014ded4d021",
        "colab": {
          "base_uri": "https://localhost:8080/",
          "height": 302
        }
      },
      "source": [
        "%matplotlib inline\n",
        "import matplotlib.pyplot as plt\n",
        "import numpy as np\n",
        "import pandas as pd\n",
        "\n",
        "plt.style.use('fivethirtyeight')\n",
        "\n",
        "fake = pd.Series([38, 3, 2, 1, 2, 4, 6, 5, 5, 33], index=range(1,11))\n",
        "\n",
        "fake.plot.bar(color=\"C1\", width=0.9);"
      ],
      "execution_count": 0,
      "outputs": [
        {
          "output_type": "execute_result",
          "data": {
            "text/plain": [
              "<matplotlib.axes._subplots.AxesSubplot at 0x7fbe7d0bbb00>"
            ]
          },
          "metadata": {
            "tags": []
          },
          "execution_count": 5
        },
        {
          "output_type": "display_data",
          "data": {
            "image/png": "[encoded data removed]",
            "text/plain": [
              "<Figure size 432x288 with 1 Axes>"
            ]
          },
          "metadata": {
            "tags": []
          }
        }
      ]
    },
    {
      "cell_type": "code",
      "metadata": {
        "id": "rTJTkogmBqkD",
        "colab_type": "code",
        "outputId": "8bda9ab1-2383-49d3-eb0e-c11d861f5b7f",
        "colab": {
          "base_uri": "https://localhost:8080/",
          "height": 289
        }
      },
      "source": [
        "fake2 = pd.Series([1, 1, 1, 1, 1, 1, 1, 1, 1, 1, 1, 1, 1, 1, 1, 1, 1, 1, 1, 1, 1, 1, 1, 1,\n",
        "     2, 2, 2, \n",
        "     3, 3, 3,\n",
        "     4, 4,\n",
        "     5, 5, 5,\n",
        "     6, 6, 6, 6,\n",
        "     7, 7, 7, 7, 7,\n",
        "     8, 8, 8, 8,\n",
        "     9, 9, 9, 9, \n",
        "     10, 10, 10, 10, 10, 10, 10, 10, 10, 10, 10, 10, 10, 10, 10, 10, 10, 10])\n",
        "\n",
        "fake2.value_counts().sort_index().plot.bar(color='C1', width=0.9);"
      ],
      "execution_count": 0,
      "outputs": [
        {
          "output_type": "display_data",
          "data": {
            "image/png": "[encoded data removed]",
            "text/plain": [
              "<Figure size 432x288 with 1 Axes>"
            ]
          },
          "metadata": {
            "tags": []
          }
        }
      ]
    },
    {
      "cell_type": "code",
      "metadata": {
        "id": "--0mSXjqCUmk",
        "colab_type": "code",
        "outputId": "8d66408e-35bb-4ff7-974a-669e7bf68f5b",
        "colab": {
          "base_uri": "https://localhost:8080/",
          "height": 304
        }
      },
      "source": [
        "fig, ax = plt.subplots()\n",
        "\n",
        "fig.patch.set(facecolor='green')\n",
        "\n",
        "ax.set(facecolor='yellow')\n",
        "ax.set_xlabel('this is my x label')\n",
        "ax.plot(fake2, color='C1');"
      ],
      "execution_count": 0,
      "outputs": [
        {
          "output_type": "display_data",
          "data": {
            "image/png": "[encoded data removed]",
            "text/plain": [
              "<Figure size 432x288 with 1 Axes>"
            ]
          },
          "metadata": {
            "tags": []
          }
        }
      ]
    },
    {
      "cell_type": "code",
      "metadata": {
        "id": "IeOYOqFrFEPg",
        "colab_type": "code",
        "outputId": "2e919d8c-8394-4d6e-97cd-ddc8ab8c97e9",
        "colab": {
          "base_uri": "https://localhost:8080/",
          "height": 355
        }
      },
      "source": [
        "display(example)"
      ],
      "execution_count": 0,
      "outputs": [
        {
          "output_type": "display_data",
          "data": {
            "text/html": [
              "<img src=\"https://fivethirtyeight.com/wp-content/uploads/2017/09/mehtahickey-inconvenient-0830-1.png\" width=\"400\"/>"
            ],
            "text/plain": [
              "<IPython.core.display.Image object>"
            ]
          },
          "metadata": {
            "tags": []
          }
        }
      ]
    },
    {
      "cell_type": "code",
      "metadata": {
        "id": "ytoeUDbuFP8W",
        "colab_type": "code",
        "outputId": "9d3fecfd-b9b1-4a1f-a509-2c09d8e418d0",
        "colab": {
          "base_uri": "https://localhost:8080/",
          "height": 334
        }
      },
      "source": [
        "# Set stylesheet \n",
        "plt.style.use('fivethirtyeight')\n",
        "\n",
        "# figure / axes syntax\n",
        "fig, ax = plt.subplots()\n",
        "\n",
        "# plot the bars\n",
        "fake.plot.bar(fake, width=0.9, color='#ED7139')\n",
        "\n",
        "# title\n",
        "ax.set_title(\"'An Inconvenient Sequel: Truth To Power' is divisive\",\n",
        "             loc='left',\n",
        "             color='black',\n",
        "             fontsize=13,\n",
        "             fontweight='bold',\n",
        "             x=-0.07,\n",
        "             y=1.1)\n",
        "\n",
        "# subtitle \n",
        "ax.text(s='IMDb ratings for the film as of Aug. 29',\n",
        "        x=-1.4,\n",
        "        y=42,\n",
        "        color='black',\n",
        "        fontsize=12)\n",
        "\n",
        "# x label\n",
        "ax.set_xlabel('Rating', color='Black', fontsize='12', fontweight='bold')\n",
        "\n",
        "# y label\n",
        "ax.set_ylabel('Percent of total votes', color='Black', fontsize=12, fontweight='bold')\n",
        "\n",
        "# x axis tick labels\n",
        "ax.set_xticklabels(labels=range(1,11,1), color='gray', rotation='horizontal', fontsize='11')\n",
        "\n",
        "# y axis tick labels\n",
        "ax.set_yticklabels(labels=[\"0\", \"10\", \"20\", \"30\", \"40%\"], color='gray')\n",
        "\n",
        "# set y ticks\n",
        "ax.set_yticks(ticks=range(0,50,10), minor=False)\n",
        "# ax.set_yticks(ticks=range(0,50,5), minor=True)\n",
        "\n",
        "ax.set_facecolor(color='white')\n",
        "fig.set_facecolor(color='white')\n",
        "\n"
      ],
      "execution_count": 0,
      "outputs": [
        {
          "output_type": "display_data",
          "data": {
            "image/png": "[encoded data removed]",
            "text/plain": [
              "<Figure size 432x288 with 1 Axes>"
            ]
          },
          "metadata": {
            "tags": []
          }
        }
      ]
    },
    {
      "cell_type": "markdown",
      "metadata": {
        "id": "UIFFp5o6Vqm8",
        "colab_type": "text"
      },
      "source": [
        "## Reproduce a FiveThirtyEight Graph"
      ]
    },
    {
      "cell_type": "code",
      "metadata": {
        "id": "ofqEvWO7V0Q6",
        "colab_type": "code",
        "outputId": "4d200c8b-4029-4c08-a40b-ef68f3cbae73",
        "colab": {
          "base_uri": "https://localhost:8080/",
          "height": 309
        }
      },
      "source": [
        "%matplotlib inline\n",
        "import matplotlib.pyplot as plt\n",
        "import numpy as np\n",
        "import pandas as pd\n",
        "\n",
        "plt.style.use('fivethirtyeight')\n",
        "\n",
        "# Fixing random state for reproducibility\n",
        "fig, ax = plt.subplots()\n",
        "\n",
        "ax.plot(kind='barh')\n",
        "\n",
        "ax.spines['bottom'].set_visible(False)\n",
        "ax.spines['top'].set_visible(False)\n",
        "ax.spines['right'].set_visible(False)\n",
        "ax.spines['left'].set_visible(False)\n",
        "ax.grid(False)\n",
        "\n",
        "ax.set_title(\"'How do you like your steak prepared?'\", \n",
        "             loc='left', \n",
        "             color=\"black\", \n",
        "             fontsize=20, \n",
        "             fontweight='bold', \n",
        "             x=-.2, \n",
        "             y=1.1)\n",
        "\n",
        "x = ['Well', 'Medium-well', 'Medium', 'Medium-rare', 'Rare']\n",
        "population = [8, 17, 31, 38, 5]\n",
        "\n",
        "\n",
        "x_pos = [i for i, _ in enumerate(x)]\n",
        "\n",
        "plt.barh(x_pos, population, color=['#370c03','#703f2b','#955731','#b36253','#b64240'],)\n",
        "ax.invert_yaxis()  # labels read top-to-bottom\n",
        "ax.set_xticks([]) # remove xticks\n",
        "\n",
        "# set subtitle\n",
        "ax.text(s='From a survey of 432 steak-eating Americans', \n",
        "        x= -8, \n",
        "        y=-0.75, \n",
        "        color='black', \n",
        "        fontsize=16,)\n",
        "\n",
        "# set bar labels\n",
        "ax.text(s='8%', \n",
        "        x= 8.5, \n",
        "        y=0.1, \n",
        "        color='0.25', \n",
        "        fontsize=12)\n",
        "\n",
        "ax.text(s='17', \n",
        "        x= 17.5, \n",
        "        y=1.1, \n",
        "        color='0.25', \n",
        "        fontsize=12)\n",
        "\n",
        "ax.text(s='31', \n",
        "        x= 31.5, \n",
        "        y=2.09, \n",
        "        color='0.25', \n",
        "        fontsize=12)\n",
        "\n",
        "ax.text(s='38', \n",
        "        x= 38.5, \n",
        "        y=3.05, \n",
        "        color='0.25', \n",
        "        fontsize=12)\n",
        "\n",
        "ax.text(s='5', \n",
        "        x= 5.5, \n",
        "        y=4.1, \n",
        "        color='0.25', \n",
        "        fontsize=12)\n",
        "\n",
        "plt.yticks(x_pos, x)\n",
        "\n",
        "plt.show()"
      ],
      "execution_count": 0,
      "outputs": [
        {
          "output_type": "display_data",
          "data": {
            "image/png": "[encoded data removed]",
            "text/plain": [
              "<Figure size 432x288 with 1 Axes>"
            ]
          },
          "metadata": {
            "tags": []
          }
        }
      ]
    },
    {
      "cell_type": "code",
      "metadata": {
        "id": "lbEzRR4DYaw5",
        "colab_type": "code",
        "outputId": "0dc2a151-1a25-4305-9817-80db2585a474",
        "colab": {
          "base_uri": "https://localhost:8080/",
          "height": 266
        }
      },
      "source": [
        "# from IPython.display import display, Image\n",
        "url = 'https://fivethirtyeight.com/wp-content/uploads/2014/05/hickey-datalab-steak.png?w=575'\n",
        "\n",
        "example = Image(url=url, width=575)\n",
        "\n",
        "display(example)"
      ],
      "execution_count": 0,
      "outputs": [
        {
          "output_type": "display_data",
          "data": {
            "text/html": [
              "<img src=\"https://fivethirtyeight.com/wp-content/uploads/2014/05/hickey-datalab-steak.png?w=575\" width=\"575\"/>"
            ],
            "text/plain": [
              "<IPython.core.display.Image object>"
            ]
          },
          "metadata": {
            "tags": []
          }
        }
      ]
    },
    {
      "cell_type": "markdown",
      "metadata": {
        "id": "0wSrBzmJyWaV",
        "colab_type": "text"
      },
      "source": [
        "# STRETCH OPTIONS\n",
        "\n",
        "### 1) Reproduce one of the following using the matplotlib or seaborn libraries:\n",
        "\n",
        "- [thanksgiving-2015](https://fivethirtyeight.com/features/heres-what-your-part-of-america-eats-on-thanksgiving/) \n",
        "- [candy-power-ranking](https://fivethirtyeight.com/features/the-ultimate-halloween-candy-power-ranking/) \n",
        "- or another example of your choice!\n",
        "\n",
        "### 2) Make more charts!\n",
        "\n",
        "Choose a chart you want to make, from [Visual Vocabulary - Vega Edition](http://ft.com/vocabulary).\n",
        "\n",
        "Find the chart in an example gallery of a Python data visualization library:\n",
        "- [Seaborn](http://seaborn.pydata.org/examples/index.html)\n",
        "- [Altair](https://altair-viz.github.io/gallery/index.html)\n",
        "- [Matplotlib](https://matplotlib.org/gallery.html)\n",
        "- [Pandas](https://pandas.pydata.org/pandas-docs/stable/visualization.html)\n",
        "\n",
        "Reproduce the chart. [Optionally, try the \"Ben Franklin Method.\"](https://docs.google.com/document/d/1ubOw9B3Hfip27hF2ZFnW3a3z9xAgrUDRReOEo-FHCVs/edit) If you want, experiment and make changes.\n",
        "\n",
        "Take notes. Consider sharing your work with your cohort!"
      ]
    },
    {
      "cell_type": "code",
      "metadata": {
        "id": "dRJkKftiy5BJ",
        "colab_type": "code",
        "colab": {}
      },
      "source": [
        "# More Work Here"
      ],
      "execution_count": 0,
      "outputs": []
    }
  ]
}